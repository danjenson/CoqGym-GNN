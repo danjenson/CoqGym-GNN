{
 "cells": [
  {
   "cell_type": "code",
   "execution_count": null,
   "metadata": {},
   "outputs": [],
   "source": [
    "import matplotlib.pyplot as plt\n",
    "import pandas as pd"
   ]
  },
  {
   "cell_type": "code",
   "execution_count": null,
   "metadata": {},
   "outputs": [],
   "source": [
    "results = pd.read_csv(\"evaluation/ours-int-emb-GraphSage-max-full-001-server/results.csv\")\n",
    "analysis = pd.read_csv(\"stats.csv\")"
   ]
  },
  {
   "cell_type": "code",
   "execution_count": null,
   "metadata": {},
   "outputs": [],
   "source": [
    "df = pd.merge(results, analysis, on=[\"lib\", \"project\", \"proof\"])\n",
    "df.columns"
   ]
  },
  {
   "attachments": {},
   "cell_type": "markdown",
   "metadata": {},
   "source": [
    "# Histogram Plots"
   ]
  },
  {
   "cell_type": "code",
   "execution_count": null,
   "metadata": {},
   "outputs": [],
   "source": [
    "def plot_hist(df, col, success, quantile):\n",
    "    plt.figure()\n",
    "    df = df[df[\"success\"] == success]\n",
    "    df = df[col]\n",
    "    mean = df.mean()\n",
    "    df = df[df < df.quantile(quantile)]\n",
    "    df.hist(bins=min(100, len(df.unique())), label=\"count\")\n",
    "    plt.axvline(mean, color=\"red\", label=f\"mean = {mean:.2f}\")\n",
    "    plt.legend()\n",
    "    plt.title(f\"{col} (success={success}, quantile={quantile})\")"
   ]
  },
  {
   "cell_type": "code",
   "execution_count": null,
   "metadata": {},
   "outputs": [],
   "source": [
    "plot_hist(df, \"n_steps\", True, 0.99)\n",
    "plot_hist(df, \"n_steps\", False, 0.99)\n",
    "plot_hist(df, \"n_steps\", True, 1)\n",
    "plot_hist(df, \"n_steps\", False, 1)"
   ]
  },
  {
   "cell_type": "code",
   "execution_count": null,
   "metadata": {},
   "outputs": [],
   "source": [
    "plot_hist(df, \"nodes_p100\", True, 0.99)\n",
    "plot_hist(df, \"nodes_p100\", False, 0.99)\n",
    "plot_hist(df, \"nodes_p100\", True, 1)\n",
    "plot_hist(df, \"nodes_p100\", False, 1)"
   ]
  },
  {
   "attachments": {},
   "cell_type": "markdown",
   "metadata": {},
   "source": [
    "# Scatter Plots"
   ]
  },
  {
   "cell_type": "code",
   "execution_count": null,
   "metadata": {},
   "outputs": [],
   "source": [
    "def plot_scatter(df, xcol, ycol, quantile):\n",
    "    plt.figure()\n",
    "    df = df[[xcol, ycol, 'success']]\n",
    "    df = df[df[xcol] < df[xcol].quantile(quantile)]\n",
    "    df = df[df[ycol] < df[ycol].quantile(quantile)]\n",
    "    plt.scatter(df[df['success'] == False][xcol], df[df['success'] == False][ycol], c='red', label='success = False')\n",
    "    plt.scatter(df[df['success'] == True][xcol], df[df['success'] == True][ycol], c='blue', label='success = True')\n",
    "    plt.legend()\n",
    "    plt.xlabel(xcol)\n",
    "    plt.ylabel(ycol)\n",
    "    plt.title(f\"{xcol} vs {ycol} (quantile={quantile})\")"
   ]
  },
  {
   "cell_type": "code",
   "execution_count": null,
   "metadata": {},
   "outputs": [],
   "source": [
    "plot_scatter(df, \"n_steps\", \"nodes_p100\", 1)\n",
    "plot_scatter(df, \"n_steps\", \"nodes_p100\", 0.99)"
   ]
  }
 ],
 "metadata": {
  "kernelspec": {
   "display_name": "coq_gym",
   "language": "python",
   "name": "python3"
  },
  "language_info": {
   "codemirror_mode": {
    "name": "ipython",
    "version": 3
   },
   "file_extension": ".py",
   "mimetype": "text/x-python",
   "name": "python",
   "nbconvert_exporter": "python",
   "pygments_lexer": "ipython3",
   "version": "3.7.16"
  },
  "orig_nbformat": 4
 },
 "nbformat": 4,
 "nbformat_minor": 2
}
