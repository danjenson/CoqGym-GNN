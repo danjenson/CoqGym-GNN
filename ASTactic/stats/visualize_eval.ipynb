{
 "cells": [
  {
   "cell_type": "code",
   "execution_count": null,
   "metadata": {},
   "outputs": [],
   "source": [
    "import matplotlib.pyplot as plt\n",
    "import pandas as pd\n",
    "import numpy as np"
   ]
  },
  {
   "cell_type": "code",
   "execution_count": null,
   "metadata": {},
   "outputs": [],
   "source": [
    "results_gsmax = pd.read_csv(\"../evaluation/test_gs_max_int_emb/results.csv\")\n",
    "results_astactic = pd.read_csv(\"../evaluation/test_astactic/results.csv\")\n",
    "analysis = pd.read_csv(\"stats.csv\")"
   ]
  },
  {
   "cell_type": "code",
   "execution_count": null,
   "metadata": {},
   "outputs": [],
   "source": [
    "results_gsmax['model'], results_astactic['model'] = 'gsmax', 'astactic'\n",
    "results = pd.concat([results_gsmax, results_astactic], ignore_index=True, axis=0)\n",
    "# df = pd.merge(results, analysis, on=[\"lib\", \"project\", \"proof\"])\n",
    "# df.columns"
   ]
  },
  {
   "cell_type": "code",
   "execution_count": null,
   "metadata": {},
   "outputs": [],
   "source": [
    "df_gsmax = pd.merge(results_gsmax, analysis, on=[\"lib\", \"project\", \"proof\"])\n",
    "df_astactic = pd.merge(results_astactic, analysis, on=[\"lib\", \"project\", \"proof\"])\n",
    "df_astactic.head(10)"
   ]
  },
  {
   "cell_type": "code",
   "execution_count": null,
   "metadata": {},
   "outputs": [],
   "source": [
    "df_astactic.columns"
   ]
  },
  {
   "attachments": {},
   "cell_type": "markdown",
   "metadata": {},
   "source": [
    "# Overall comparison by library"
   ]
  },
  {
   "cell_type": "code",
   "execution_count": null,
   "metadata": {},
   "outputs": [],
   "source": [
    "print((df_astactic['success'] == True).astype(int).sum())\n",
    "print((df_gsmax['success'] == True).astype(int).sum())"
   ]
  },
  {
   "cell_type": "code",
   "execution_count": null,
   "metadata": {},
   "outputs": [],
   "source": [
    "def compare_bar_charts(df, col1, col2, filename):\n",
    "    plt.figure()\n",
    "    x_axis = np.arange(len(df))\n",
    "    y1, y2 = df[col1], df[col2]\n",
    "    plt.bar(x_axis - 0.2, y1, 0.4, label = col1)\n",
    "    plt.bar(x_axis + 0.2, y2, 0.4, label = col2)\n",
    "    plt.xticks(x_axis, df_project.index.tolist(), rotation=45, ha='right')\n",
    "    plt.legend()\n",
    "    plt.savefig(f\"{filename}.pdf\",bbox_inches='tight')"
   ]
  },
  {
   "cell_type": "code",
   "execution_count": null,
   "metadata": {},
   "outputs": [],
   "source": [
    "# rows = project names; columns = model_success_count, total_proofs, model_success_pct\n",
    "# groupby on project name\n",
    "cols = ['project', 'success_count', 'proof_count']\n",
    "df_astactic['success_count'] = (df_astactic['success'] == True).astype(int)\n",
    "df_gsmax['success_count'] = (df_gsmax['success'] == True).astype(int)\n",
    "df_astactic['proof_count'], df_gsmax['proof_count'] = 1, 1\n",
    "\n",
    "df1_project = df_astactic[cols].groupby(['project']).sum()\n",
    "df2_project = df_gsmax[cols].groupby(['project']).sum()\n",
    "\n",
    "df1_project['success_pct'] = df1_project['success_count'] / df1_project['proof_count']\n",
    "df2_project['success_pct'] = df2_project['success_count'] / df2_project['proof_count']\n",
    "\n",
    "df1_project = df1_project.add_prefix('astactic_')\n",
    "df2_project = df2_project.add_prefix('gsmax_')\n",
    "df_project = df1_project.merge(df2_project, how='left', on='project')\n",
    "df_project = df_project.sort_values(by='gsmax_success_count', ascending=False)\n",
    "df_project.rename(index={'coq-library-undecidability': 'coq-library-und.'}, inplace=True)\n",
    "df_project"
   ]
  },
  {
   "cell_type": "code",
   "execution_count": null,
   "metadata": {},
   "outputs": [],
   "source": [
    "compare_bar_charts(df_project, col1='astactic_success_pct', col2='gsmax_success_pct', filename='compare_results_pct')\n",
    "compare_bar_charts(df_project, col1='astactic_success_count', col2='gsmax_success_count', filename='compare_results_count')"
   ]
  },
  {
   "attachments": {},
   "cell_type": "markdown",
   "metadata": {},
   "source": [
    "# Histogram Plots"
   ]
  },
  {
   "cell_type": "code",
   "execution_count": null,
   "metadata": {},
   "outputs": [],
   "source": [
    "def plot_hist(df, col, quantile, title, filename):\n",
    "    plt.figure()\n",
    "#     df = df[df[\"success\"] == success]\n",
    "    df = df[col]\n",
    "    mean = df.mean()\n",
    "    median = df.median()\n",
    "    df = df[df < df.quantile(quantile)]\n",
    "    df.hist(bins=min(100, len(df.unique())), label=\"count\")\n",
    "    plt.axvline(mean, color=\"red\", linestyle='dashed', label=f\"mean = {mean:.2f}\")\n",
    "    plt.axvline(median, color=\"orange\", linestyle='dashed', label=f\"median = {median:.2f}\")\n",
    "    plt.legend()\n",
    "#     plt.title(f\"{title}: {col} (quantile={quantile})\")\n",
    "    plt.title(f\"{title} ({col})\")\n",
    "    plt.savefig(f'{filename}.pdf') "
   ]
  },
  {
   "cell_type": "code",
   "execution_count": null,
   "metadata": {},
   "outputs": [],
   "source": [
    "def plot_hist_success(df, col, success, quantile):\n",
    "    plt.figure()\n",
    "    df = df[df[\"success\"] == success]\n",
    "    df = df[col]\n",
    "    mean = df.mean()\n",
    "    df = df[df < df.quantile(quantile)]\n",
    "    df.hist(bins=min(100, len(df.unique())), label=\"count\")\n",
    "    plt.axvline(mean, color=\"red\", label=f\"mean = {mean:.2f}\")\n",
    "    plt.legend()\n",
    "    plt.title(f\"{col} (success={success}, quantile={quantile})\")"
   ]
  },
  {
   "cell_type": "code",
   "execution_count": null,
   "metadata": {},
   "outputs": [],
   "source": [
    "def compare_hist_plot(df1, df2, df1_name, df2_name, col, success, quantile):\n",
    "    fig, axes = plt.subplots(1, 2)\n",
    "\n",
    "    df1 = df1[df1[\"success\"] == success]\n",
    "    df2 = df2[df2[\"success\"] == success]\n",
    "    df1, df2 = df1[col], df2[col]\n",
    "    \n",
    "    mean1, mean2 = df1.mean(), df2.mean()\n",
    "    df1 = df1[df1 < df1.quantile(quantile)]\n",
    "    df2 = df2[df2 < df2.quantile(quantile)]\n",
    "    \n",
    "    df1.hist(bins=min(100, len(df1.unique())), label=\"count\", ax=axes[0])\n",
    "    df2.hist(bins=min(100, len(df2.unique())), label=\"count\", ax=axes[1])\n",
    "    \n",
    "    axes[0].set_title(df1_name); axes[1].set_title(df2_name)\n",
    "    axes[0].axvline(mean1, color=\"red\", label=f\"mean = {mean1:.2f}\")\n",
    "    axes[1].axvline(mean2, color=\"red\", label=f\"mean = {mean2:.2f}\")\n",
    "    axes[0].legend(); axes[1].legend()\n",
    "    \n",
    "    fig.suptitle(f\"{col} (success={success}, quantile={quantile})\")"
   ]
  },
  {
   "cell_type": "code",
   "execution_count": null,
   "metadata": {},
   "outputs": [],
   "source": [
    "analysis.head()"
   ]
  },
  {
   "cell_type": "code",
   "execution_count": null,
   "metadata": {},
   "outputs": [],
   "source": [
    "import numpy as np\n",
    "np.median(analysis[analysis['n_steps']>0]['nodes_p99'])\n",
    "np.median(analysis[analysis['n_steps']>0]['n_steps'])"
   ]
  },
  {
   "cell_type": "code",
   "execution_count": null,
   "metadata": {},
   "outputs": [],
   "source": [
    "plot_hist(analysis[analysis['n_steps'] > 0], 'n_steps', 0.99, 'number of proof steps', 'hist_num_proof_steps')\n",
    "plot_hist(analysis[analysis['n_steps'] > 0], 'height_p99', 0.99, 'height of context terms', 'hist_height_of_terms')\n",
    "plot_hist(analysis[analysis['n_steps'] > 0], 'nodes_p99', 0.98, 'number of term nodes', 'hist_num_term_nodes')"
   ]
  },
  {
   "cell_type": "code",
   "execution_count": null,
   "metadata": {
    "scrolled": false
   },
   "outputs": [],
   "source": [
    "compare_hist_plot(df_astactic, df_gsmax, \"astactic\", \"graphsage-max\", \"n_steps\", True, 0.99)\n",
    "compare_hist_plot(df_astactic, df_gsmax, \"astactic\", \"graphsage-max\", \"n_steps\", False, 0.99)\n",
    "compare_hist_plot(df_astactic, df_gsmax, \"astactic\", \"graphsage-max\", \"n_steps\", True, 1)\n",
    "compare_hist_plot(df_astactic, df_gsmax, \"astactic\", \"graphsage-max\", \"n_steps\", False, 1)"
   ]
  },
  {
   "cell_type": "code",
   "execution_count": null,
   "metadata": {
    "scrolled": false
   },
   "outputs": [],
   "source": [
    "compare_hist_plot(df_astactic, df_gsmax, \"astactic\", \"graphsage-max\", \"nodes_p100\", True, 0.99)\n",
    "compare_hist_plot(df_astactic, df_gsmax, \"astactic\", \"graphsage-max\", \"nodes_p100\", False, 0.99)\n",
    "compare_hist_plot(df_astactic, df_gsmax, \"astactic\", \"graphsage-max\", \"nodes_p100\", True, 1)\n",
    "compare_hist_plot(df_astactic, df_gsmax, \"astactic\", \"graphsage-max\", \"nodes_p100\", False, 1)"
   ]
  },
  {
   "cell_type": "code",
   "execution_count": null,
   "metadata": {},
   "outputs": [],
   "source": [
    "compare_hist_plot(df_astactic, df_gsmax, \"astactic\", \"graphsage-max\", \"num_tactics\", True, 0.99)\n",
    "compare_hist_plot(df_astactic, df_gsmax, \"astactic\", \"graphsage-max\", \"num_tactics\", True, 1)"
   ]
  },
  {
   "attachments": {},
   "cell_type": "markdown",
   "metadata": {},
   "source": [
    "# Scatter Plots"
   ]
  },
  {
   "cell_type": "code",
   "execution_count": null,
   "metadata": {},
   "outputs": [],
   "source": [
    "def plot_scatter(df, xcol, ycol, quantile):\n",
    "    plt.figure()\n",
    "    df = df[[xcol, ycol, 'success']]\n",
    "    df = df[df[xcol] < df[xcol].quantile(quantile)]\n",
    "    df = df[df[ycol] < df[ycol].quantile(quantile)]\n",
    "    plt.scatter(df[df['success'] == False][xcol], df[df['success'] == False][ycol], c='red', label='success = False')\n",
    "    plt.scatter(df[df['success'] == True][xcol], df[df['success'] == True][ycol], c='blue', label='success = True')\n",
    "    plt.legend()\n",
    "    plt.xlabel(xcol)\n",
    "    plt.ylabel(ycol)\n",
    "    plt.title(f\"{xcol} vs {ycol} (quantile={quantile})\")"
   ]
  },
  {
   "cell_type": "code",
   "execution_count": null,
   "metadata": {},
   "outputs": [],
   "source": [
    "def compare_scatter_plot(df1, df2, df1_name, df2_name, xcol, ycol, quantile):\n",
    "    fig, axes = plt.subplots(1, 2)\n",
    "\n",
    "    df1 = df1[[xcol, ycol, 'success']]\n",
    "    df2 = df2[[xcol, ycol, 'success']]\n",
    "    \n",
    "    df1 = df1[df1[xcol] < df1[xcol].quantile(quantile)]\n",
    "    df1 = df1[df1[ycol] < df1[ycol].quantile(quantile)]\n",
    "    df2 = df2[df2[xcol] < df2[xcol].quantile(quantile)]\n",
    "    df2 = df2[df2[ycol] < df2[ycol].quantile(quantile)]\n",
    "    \n",
    "    axes[0].scatter(df1[df1['success'] == False][xcol], df1[df1['success'] == False][ycol], c='red', label='success = False')\n",
    "    axes[0].scatter(df1[df1['success'] == True][xcol], df1[df1['success'] == True][ycol], c='blue', label='success = True')\n",
    "    axes[1].scatter(df2[df2['success'] == False][xcol], df2[df2['success'] == False][ycol], c='red', label='success = False')\n",
    "    axes[1].scatter(df2[df2['success'] == True][xcol], df2[df2['success'] == True][ycol], c='blue', label='success = True')\n",
    "    \n",
    "    axes[0].set_title(df1_name); axes[1].set_title(df2_name)\n",
    "    axes[0].set_ylabel(ycol); axes[0].set_xlabel(xcol)\n",
    "    axes[1].set_ylabel(ycol); axes[1].set_xlabel(xcol)\n",
    "    axes[0].legend(); axes[1].legend()\n",
    "    plt.suptitle(f\"{xcol} vs {ycol} (quantile={quantile})\")"
   ]
  },
  {
   "cell_type": "code",
   "execution_count": null,
   "metadata": {},
   "outputs": [],
   "source": [
    "compare_scatter_plot(df_astactic, df_gsmax, \"astactic\", \"graphsage-max\", \"n_steps\", \"nodes_p100\", 1)\n",
    "compare_scatter_plot(df_astactic, df_gsmax, \"astactic\", \"graphsage-max\", \"n_steps\", \"nodes_p100\", 0.99)"
   ]
  },
  {
   "cell_type": "code",
   "execution_count": null,
   "metadata": {},
   "outputs": [],
   "source": []
  }
 ],
 "metadata": {
  "kernelspec": {
   "display_name": "Python [conda env:coq_gym]",
   "language": "python",
   "name": "conda-env-coq_gym-py"
  },
  "language_info": {
   "codemirror_mode": {
    "name": "ipython",
    "version": 3
   },
   "file_extension": ".py",
   "mimetype": "text/x-python",
   "name": "python",
   "nbconvert_exporter": "python",
   "pygments_lexer": "ipython3",
   "version": "3.7.1"
  }
 },
 "nbformat": 4,
 "nbformat_minor": 2
}
