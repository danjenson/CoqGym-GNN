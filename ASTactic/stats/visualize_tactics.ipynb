{
 "cells": [
  {
   "cell_type": "code",
   "execution_count": 1,
   "id": "a25348eb",
   "metadata": {},
   "outputs": [],
   "source": [
    "import matplotlib.pyplot as plt\n",
    "import pandas as pd\n",
    "import numpy as np"
   ]
  },
  {
   "cell_type": "code",
   "execution_count": 30,
   "id": "84c32ca2",
   "metadata": {},
   "outputs": [],
   "source": [
    "def plot_hist(df, col, quantile, title, filename):\n",
    "    plt.figure()\n",
    "    df = df[col]\n",
    "    mean = df.mean()\n",
    "    median = df.median()\n",
    "    df = df[df < df.quantile(quantile)]\n",
    "    df.hist(bins=min(100, len(df.unique())), label=\"count\", align='left', rwidth=1)\n",
    "#     plt.xticks(np.arange(0, df.max()+1, 1))\n",
    "    plt.axvline(mean, color=\"red\", linestyle='dashed', label=f\"mean = {mean:.2f}\")\n",
    "    plt.axvline(median, color=\"orange\", linestyle='dashed', label=f\"median = {median:.2f}\")\n",
    "    plt.legend()\n",
    "#     plt.title(f\"{title}: {col} (quantile={quantile})\")\n",
    "    plt.title(f\"{title} ({col})\")\n",
    "    plt.savefig(f'{filename}.pdf') "
   ]
  },
  {
   "cell_type": "code",
   "execution_count": 29,
   "id": "90156597",
   "metadata": {},
   "outputs": [],
   "source": [
    "def plot_hist_simple_title(df, col, quantile, title, filename):\n",
    "    plt.figure()\n",
    "    df = df[col]\n",
    "    mean = df.mean()\n",
    "    median = df.median()\n",
    "    df = df[df < df.quantile(quantile)]\n",
    "    df.hist(bins=min(100, len(df.unique())), label=\"count\", align='left', rwidth=1)\n",
    "#     plt.xticks(np.arange(0, df.max()+1, 1))\n",
    "    plt.axvline(mean, color=\"red\", linestyle='dashed', label=f\"mean = {mean:.2f}\")\n",
    "    plt.axvline(median, color=\"orange\", linestyle='dashed', label=f\"median = {median:.2f}\")\n",
    "    plt.legend()\n",
    "#     plt.title(f\"{title} (quantile={quantile})\") if quantile != 1 else plt.title(f\"{title}\")\n",
    "    plt.title(f\"{title} ({col})\")\n",
    "    plt.savefig(f'{filename}.pdf') "
   ]
  },
  {
   "cell_type": "code",
   "execution_count": 28,
   "id": "51426025",
   "metadata": {},
   "outputs": [],
   "source": [
    "def plot_hist_xticks(df, col, quantile, title, filename):\n",
    "    plt.figure()\n",
    "    df = df[col]\n",
    "    mean = df.mean()\n",
    "    median = df.median()\n",
    "    df = df[df < df.quantile(quantile)]\n",
    "    df.hist(bins=min(100, len(df.unique())), label=\"count\", align='left', rwidth=1)\n",
    "    plt.xticks(np.arange(0, df.max()+1, 1))\n",
    "    plt.axvline(mean, color=\"red\", linestyle='dashed', label=f\"mean = {mean:.2f}\")\n",
    "    plt.axvline(median, color=\"orange\", linestyle='dashed', label=f\"median = {median:.2f}\")\n",
    "    plt.legend()\n",
    "#     plt.title(f\"{title}: {col} (quantile={quantile})\")\n",
    "    plt.title(f\"{title} ({col})\")\n",
    "    plt.savefig(f'{filename}.pdf') "
   ]
  },
  {
   "cell_type": "markdown",
   "id": "f635715c",
   "metadata": {},
   "source": [
    "# Number of tactic tokens by proof"
   ]
  },
  {
   "cell_type": "code",
   "execution_count": 5,
   "id": "4f9f73cd",
   "metadata": {},
   "outputs": [],
   "source": [
    "counts_by_proof = pd.read_csv(\"counts_proofs.csv\")\n",
    "tfidf_by_proof = pd.read_csv(\"tfidf_proofs.csv\")"
   ]
  },
  {
   "cell_type": "code",
   "execution_count": 6,
   "id": "fc3948b9",
   "metadata": {},
   "outputs": [
    {
     "name": "stdout",
     "output_type": "stream",
     "text": [
      "7059\n"
     ]
    },
    {
     "data": {
      "text/html": [
       "<div>\n",
       "<style scoped>\n",
       "    .dataframe tbody tr th:only-of-type {\n",
       "        vertical-align: middle;\n",
       "    }\n",
       "\n",
       "    .dataframe tbody tr th {\n",
       "        vertical-align: top;\n",
       "    }\n",
       "\n",
       "    .dataframe thead th {\n",
       "        text-align: right;\n",
       "    }\n",
       "</style>\n",
       "<table border=\"1\" class=\"dataframe\">\n",
       "  <thead>\n",
       "    <tr style=\"text-align: right;\">\n",
       "      <th></th>\n",
       "      <th>y_gsmax</th>\n",
       "      <th>y_astactic</th>\n",
       "      <th>proof_name</th>\n",
       "      <th>lib_name</th>\n",
       "      <th>project_name</th>\n",
       "      <th>0b</th>\n",
       "      <th>10</th>\n",
       "      <th>_1</th>\n",
       "      <th>_2</th>\n",
       "      <th>_a_equiv</th>\n",
       "      <th>...</th>\n",
       "      <th>zplus_eq_compat</th>\n",
       "      <th>zplus_le_compat_r</th>\n",
       "      <th>zplus_minus</th>\n",
       "      <th>zplus_minus_eq</th>\n",
       "      <th>zplus_opp_l</th>\n",
       "      <th>zpos_eq_z_of_nat_o_nat_of_p</th>\n",
       "      <th>zpred</th>\n",
       "      <th>zrv_wr</th>\n",
       "      <th>zsucc_inj</th>\n",
       "      <th>zx</th>\n",
       "    </tr>\n",
       "  </thead>\n",
       "  <tbody>\n",
       "    <tr>\n",
       "      <th>0</th>\n",
       "      <td>0.0</td>\n",
       "      <td>0.0</td>\n",
       "      <td>subRelGRBar</td>\n",
       "      <td>Bar.json</td>\n",
       "      <td>buchberger</td>\n",
       "      <td>0</td>\n",
       "      <td>0</td>\n",
       "      <td>0</td>\n",
       "      <td>0</td>\n",
       "      <td>0</td>\n",
       "      <td>...</td>\n",
       "      <td>0</td>\n",
       "      <td>0</td>\n",
       "      <td>0</td>\n",
       "      <td>0</td>\n",
       "      <td>0</td>\n",
       "      <td>0</td>\n",
       "      <td>0</td>\n",
       "      <td>0</td>\n",
       "      <td>0</td>\n",
       "      <td>0</td>\n",
       "    </tr>\n",
       "    <tr>\n",
       "      <th>1</th>\n",
       "      <td>1.0</td>\n",
       "      <td>1.0</td>\n",
       "      <td>pmon2</td>\n",
       "      <td>Monomials.json</td>\n",
       "      <td>buchberger</td>\n",
       "      <td>0</td>\n",
       "      <td>0</td>\n",
       "      <td>0</td>\n",
       "      <td>0</td>\n",
       "      <td>0</td>\n",
       "      <td>...</td>\n",
       "      <td>0</td>\n",
       "      <td>0</td>\n",
       "      <td>0</td>\n",
       "      <td>0</td>\n",
       "      <td>0</td>\n",
       "      <td>0</td>\n",
       "      <td>0</td>\n",
       "      <td>0</td>\n",
       "      <td>0</td>\n",
       "      <td>0</td>\n",
       "    </tr>\n",
       "    <tr>\n",
       "      <th>2</th>\n",
       "      <td>1.0</td>\n",
       "      <td>0.0</td>\n",
       "      <td>recomp_ok</td>\n",
       "      <td>Monomials.json</td>\n",
       "      <td>buchberger</td>\n",
       "      <td>0</td>\n",
       "      <td>0</td>\n",
       "      <td>0</td>\n",
       "      <td>0</td>\n",
       "      <td>0</td>\n",
       "      <td>...</td>\n",
       "      <td>0</td>\n",
       "      <td>0</td>\n",
       "      <td>0</td>\n",
       "      <td>0</td>\n",
       "      <td>0</td>\n",
       "      <td>0</td>\n",
       "      <td>0</td>\n",
       "      <td>0</td>\n",
       "      <td>0</td>\n",
       "      <td>0</td>\n",
       "    </tr>\n",
       "    <tr>\n",
       "      <th>3</th>\n",
       "      <td>1.0</td>\n",
       "      <td>1.0</td>\n",
       "      <td>zero_mon</td>\n",
       "      <td>Monomials.json</td>\n",
       "      <td>buchberger</td>\n",
       "      <td>0</td>\n",
       "      <td>0</td>\n",
       "      <td>0</td>\n",
       "      <td>0</td>\n",
       "      <td>0</td>\n",
       "      <td>...</td>\n",
       "      <td>0</td>\n",
       "      <td>0</td>\n",
       "      <td>0</td>\n",
       "      <td>0</td>\n",
       "      <td>0</td>\n",
       "      <td>0</td>\n",
       "      <td>0</td>\n",
       "      <td>0</td>\n",
       "      <td>0</td>\n",
       "      <td>0</td>\n",
       "    </tr>\n",
       "    <tr>\n",
       "      <th>4</th>\n",
       "      <td>1.0</td>\n",
       "      <td>1.0</td>\n",
       "      <td>mult_mon_zero_r</td>\n",
       "      <td>Monomials.json</td>\n",
       "      <td>buchberger</td>\n",
       "      <td>0</td>\n",
       "      <td>0</td>\n",
       "      <td>0</td>\n",
       "      <td>0</td>\n",
       "      <td>0</td>\n",
       "      <td>...</td>\n",
       "      <td>0</td>\n",
       "      <td>0</td>\n",
       "      <td>0</td>\n",
       "      <td>0</td>\n",
       "      <td>0</td>\n",
       "      <td>0</td>\n",
       "      <td>0</td>\n",
       "      <td>0</td>\n",
       "      <td>0</td>\n",
       "      <td>0</td>\n",
       "    </tr>\n",
       "  </tbody>\n",
       "</table>\n",
       "<p>5 rows × 4520 columns</p>\n",
       "</div>"
      ],
      "text/plain": [
       "   y_gsmax  y_astactic       proof_name        lib_name project_name  0b  10  \\\n",
       "0      0.0         0.0      subRelGRBar        Bar.json   buchberger   0   0   \n",
       "1      1.0         1.0            pmon2  Monomials.json   buchberger   0   0   \n",
       "2      1.0         0.0        recomp_ok  Monomials.json   buchberger   0   0   \n",
       "3      1.0         1.0         zero_mon  Monomials.json   buchberger   0   0   \n",
       "4      1.0         1.0  mult_mon_zero_r  Monomials.json   buchberger   0   0   \n",
       "\n",
       "   _1  _2  _a_equiv  ...  zplus_eq_compat  zplus_le_compat_r  zplus_minus  \\\n",
       "0   0   0         0  ...                0                  0            0   \n",
       "1   0   0         0  ...                0                  0            0   \n",
       "2   0   0         0  ...                0                  0            0   \n",
       "3   0   0         0  ...                0                  0            0   \n",
       "4   0   0         0  ...                0                  0            0   \n",
       "\n",
       "   zplus_minus_eq  zplus_opp_l  zpos_eq_z_of_nat_o_nat_of_p  zpred  zrv_wr  \\\n",
       "0               0            0                            0      0       0   \n",
       "1               0            0                            0      0       0   \n",
       "2               0            0                            0      0       0   \n",
       "3               0            0                            0      0       0   \n",
       "4               0            0                            0      0       0   \n",
       "\n",
       "   zsucc_inj  zx  \n",
       "0          0   0  \n",
       "1          0   0  \n",
       "2          0   0  \n",
       "3          0   0  \n",
       "4          0   0  \n",
       "\n",
       "[5 rows x 4520 columns]"
      ]
     },
     "execution_count": 6,
     "metadata": {},
     "output_type": "execute_result"
    }
   ],
   "source": [
    "print(len(counts_by_proof))\n",
    "counts_by_proof.head()"
   ]
  },
  {
   "cell_type": "code",
   "execution_count": 7,
   "id": "43b80046",
   "metadata": {},
   "outputs": [
    {
     "data": {
      "text/plain": [
       "['y_gsmax', 'y_astactic', 'proof_name', 'lib_name', 'project_name']"
      ]
     },
     "execution_count": 7,
     "metadata": {},
     "output_type": "execute_result"
    }
   ],
   "source": [
    "init_cols = counts_by_proof.columns[:5].tolist()\n",
    "init_cols"
   ]
  },
  {
   "cell_type": "code",
   "execution_count": 8,
   "id": "3a44e71b",
   "metadata": {},
   "outputs": [
    {
     "data": {
      "text/plain": [
       "1226"
      ]
     },
     "execution_count": 8,
     "metadata": {},
     "output_type": "execute_result"
    }
   ],
   "source": [
    "counts_by_proof['num_tokens'] = counts_by_proof.drop(init_cols, axis=1).sum(axis=1)\n",
    "max(counts_by_proof['num_tokens'])"
   ]
  },
  {
   "cell_type": "code",
   "execution_count": 9,
   "id": "2f48b935",
   "metadata": {},
   "outputs": [
    {
     "data": {
      "text/html": [
       "<div>\n",
       "<style scoped>\n",
       "    .dataframe tbody tr th:only-of-type {\n",
       "        vertical-align: middle;\n",
       "    }\n",
       "\n",
       "    .dataframe tbody tr th {\n",
       "        vertical-align: top;\n",
       "    }\n",
       "\n",
       "    .dataframe thead th {\n",
       "        text-align: right;\n",
       "    }\n",
       "</style>\n",
       "<table border=\"1\" class=\"dataframe\">\n",
       "  <thead>\n",
       "    <tr style=\"text-align: right;\">\n",
       "      <th></th>\n",
       "      <th>y_gsmax</th>\n",
       "      <th>y_astactic</th>\n",
       "      <th>proof_name</th>\n",
       "      <th>lib_name</th>\n",
       "      <th>project_name</th>\n",
       "      <th>num_tokens</th>\n",
       "    </tr>\n",
       "  </thead>\n",
       "  <tbody>\n",
       "    <tr>\n",
       "      <th>0</th>\n",
       "      <td>0.0</td>\n",
       "      <td>0.0</td>\n",
       "      <td>subRelGRBar</td>\n",
       "      <td>Bar.json</td>\n",
       "      <td>buchberger</td>\n",
       "      <td>2</td>\n",
       "    </tr>\n",
       "    <tr>\n",
       "      <th>1</th>\n",
       "      <td>1.0</td>\n",
       "      <td>1.0</td>\n",
       "      <td>pmon2</td>\n",
       "      <td>Monomials.json</td>\n",
       "      <td>buchberger</td>\n",
       "      <td>2</td>\n",
       "    </tr>\n",
       "    <tr>\n",
       "      <th>2</th>\n",
       "      <td>1.0</td>\n",
       "      <td>0.0</td>\n",
       "      <td>recomp_ok</td>\n",
       "      <td>Monomials.json</td>\n",
       "      <td>buchberger</td>\n",
       "      <td>1</td>\n",
       "    </tr>\n",
       "    <tr>\n",
       "      <th>3</th>\n",
       "      <td>1.0</td>\n",
       "      <td>1.0</td>\n",
       "      <td>zero_mon</td>\n",
       "      <td>Monomials.json</td>\n",
       "      <td>buchberger</td>\n",
       "      <td>2</td>\n",
       "    </tr>\n",
       "    <tr>\n",
       "      <th>4</th>\n",
       "      <td>1.0</td>\n",
       "      <td>1.0</td>\n",
       "      <td>mult_mon_zero_r</td>\n",
       "      <td>Monomials.json</td>\n",
       "      <td>buchberger</td>\n",
       "      <td>1</td>\n",
       "    </tr>\n",
       "  </tbody>\n",
       "</table>\n",
       "</div>"
      ],
      "text/plain": [
       "   y_gsmax  y_astactic       proof_name        lib_name project_name  \\\n",
       "0      0.0         0.0      subRelGRBar        Bar.json   buchberger   \n",
       "1      1.0         1.0            pmon2  Monomials.json   buchberger   \n",
       "2      1.0         0.0        recomp_ok  Monomials.json   buchberger   \n",
       "3      1.0         1.0         zero_mon  Monomials.json   buchberger   \n",
       "4      1.0         1.0  mult_mon_zero_r  Monomials.json   buchberger   \n",
       "\n",
       "   num_tokens  \n",
       "0           2  \n",
       "1           2  \n",
       "2           1  \n",
       "3           2  \n",
       "4           1  "
      ]
     },
     "execution_count": 9,
     "metadata": {},
     "output_type": "execute_result"
    }
   ],
   "source": [
    "df = counts_by_proof[init_cols+['num_tokens']]\n",
    "df.head()"
   ]
  },
  {
   "cell_type": "code",
   "execution_count": 10,
   "id": "f40272a5",
   "metadata": {},
   "outputs": [
    {
     "ename": "TypeError",
     "evalue": "plot_hist() missing 1 required positional argument: 'filename'",
     "output_type": "error",
     "traceback": [
      "\u001b[0;31m---------------------------------------------------------------------------\u001b[0m",
      "\u001b[0;31mTypeError\u001b[0m                                 Traceback (most recent call last)",
      "\u001b[0;32m/tmp/ipykernel_86839/2267187396.py\u001b[0m in \u001b[0;36m<module>\u001b[0;34m\u001b[0m\n\u001b[0;32m----> 1\u001b[0;31m \u001b[0mplot_hist\u001b[0m\u001b[0;34m(\u001b[0m\u001b[0mdf\u001b[0m\u001b[0;34m,\u001b[0m \u001b[0;34m'num_tokens'\u001b[0m\u001b[0;34m,\u001b[0m \u001b[0;34m'tactics by proof'\u001b[0m\u001b[0;34m,\u001b[0m \u001b[0;36m0.99\u001b[0m\u001b[0;34m)\u001b[0m\u001b[0;34m\u001b[0m\u001b[0;34m\u001b[0m\u001b[0m\n\u001b[0m\u001b[1;32m      2\u001b[0m \u001b[0mplot_hist\u001b[0m\u001b[0;34m(\u001b[0m\u001b[0mdf\u001b[0m\u001b[0;34m,\u001b[0m \u001b[0;34m'num_tokens'\u001b[0m\u001b[0;34m,\u001b[0m \u001b[0;34m'tactics by proof'\u001b[0m\u001b[0;34m,\u001b[0m \u001b[0;36m1.00\u001b[0m\u001b[0;34m)\u001b[0m\u001b[0;34m\u001b[0m\u001b[0;34m\u001b[0m\u001b[0m\n",
      "\u001b[0;31mTypeError\u001b[0m: plot_hist() missing 1 required positional argument: 'filename'"
     ]
    }
   ],
   "source": [
    "plot_hist(df, 'num_tokens', 'tactics by proof', 0.99)\n",
    "plot_hist(df, 'num_tokens', 'tactics by proof', 1.00)"
   ]
  },
  {
   "cell_type": "markdown",
   "id": "254b673b",
   "metadata": {},
   "source": [
    "# Number of tactic tokens by proof step"
   ]
  },
  {
   "cell_type": "code",
   "execution_count": 25,
   "id": "4bf364ea",
   "metadata": {},
   "outputs": [],
   "source": [
    "counts_by_pstep = pd.read_csv('counts_proof_steps.csv')"
   ]
  },
  {
   "cell_type": "code",
   "execution_count": 26,
   "id": "4c7da9b8",
   "metadata": {},
   "outputs": [
    {
     "name": "stdout",
     "output_type": "stream",
     "text": [
      "268318\n"
     ]
    },
    {
     "data": {
      "text/html": [
       "<div>\n",
       "<style scoped>\n",
       "    .dataframe tbody tr th:only-of-type {\n",
       "        vertical-align: middle;\n",
       "    }\n",
       "\n",
       "    .dataframe tbody tr th {\n",
       "        vertical-align: top;\n",
       "    }\n",
       "\n",
       "    .dataframe thead th {\n",
       "        text-align: right;\n",
       "    }\n",
       "</style>\n",
       "<table border=\"1\" class=\"dataframe\">\n",
       "  <thead>\n",
       "    <tr style=\"text-align: right;\">\n",
       "      <th></th>\n",
       "      <th>Unnamed: 0</th>\n",
       "      <th>lib</th>\n",
       "      <th>project</th>\n",
       "      <th>proof</th>\n",
       "      <th>proof_tactic_str</th>\n",
       "      <th>step</th>\n",
       "      <th>num_tactics</th>\n",
       "    </tr>\n",
       "  </thead>\n",
       "  <tbody>\n",
       "    <tr>\n",
       "      <th>0</th>\n",
       "      <td>0</td>\n",
       "      <td>Bar.json</td>\n",
       "      <td>buchberger</td>\n",
       "      <td>subRelGRBar</td>\n",
       "      <td>unfold GRBar in |- *</td>\n",
       "      <td>0</td>\n",
       "      <td>5</td>\n",
       "    </tr>\n",
       "    <tr>\n",
       "      <th>1</th>\n",
       "      <td>1</td>\n",
       "      <td>Monomials.json</td>\n",
       "      <td>buchberger</td>\n",
       "      <td>pmon2</td>\n",
       "      <td>exact n_0</td>\n",
       "      <td>0</td>\n",
       "      <td>2</td>\n",
       "    </tr>\n",
       "    <tr>\n",
       "      <th>2</th>\n",
       "      <td>2</td>\n",
       "      <td>Monomials.json</td>\n",
       "      <td>buchberger</td>\n",
       "      <td>recomp_ok</td>\n",
       "      <td>elim m</td>\n",
       "      <td>0</td>\n",
       "      <td>2</td>\n",
       "    </tr>\n",
       "    <tr>\n",
       "      <th>3</th>\n",
       "      <td>3</td>\n",
       "      <td>Monomials.json</td>\n",
       "      <td>buchberger</td>\n",
       "      <td>zero_mon</td>\n",
       "      <td>exact n_0</td>\n",
       "      <td>0</td>\n",
       "      <td>2</td>\n",
       "    </tr>\n",
       "    <tr>\n",
       "      <th>4</th>\n",
       "      <td>4</td>\n",
       "      <td>Monomials.json</td>\n",
       "      <td>buchberger</td>\n",
       "      <td>mult_mon_zero_r</td>\n",
       "      <td>simpl in |- *</td>\n",
       "      <td>0</td>\n",
       "      <td>4</td>\n",
       "    </tr>\n",
       "  </tbody>\n",
       "</table>\n",
       "</div>"
      ],
      "text/plain": [
       "   Unnamed: 0             lib     project            proof  \\\n",
       "0           0        Bar.json  buchberger      subRelGRBar   \n",
       "1           1  Monomials.json  buchberger            pmon2   \n",
       "2           2  Monomials.json  buchberger        recomp_ok   \n",
       "3           3  Monomials.json  buchberger         zero_mon   \n",
       "4           4  Monomials.json  buchberger  mult_mon_zero_r   \n",
       "\n",
       "       proof_tactic_str  step  num_tactics  \n",
       "0  unfold GRBar in |- *     0            5  \n",
       "1             exact n_0     0            2  \n",
       "2                elim m     0            2  \n",
       "3             exact n_0     0            2  \n",
       "4         simpl in |- *     0            4  "
      ]
     },
     "execution_count": 26,
     "metadata": {},
     "output_type": "execute_result"
    }
   ],
   "source": [
    "print(len(counts_by_pstep))\n",
    "counts_by_pstep.head()"
   ]
  },
  {
   "cell_type": "code",
   "execution_count": 31,
   "id": "b8b904d8",
   "metadata": {},
   "outputs": [
    {
     "data": {
      "image/png": "[encoded data removed]",
      "text/plain": [
       "<Figure size 640x480 with 1 Axes>"
      ]
     },
     "metadata": {},
     "output_type": "display_data"
    },
    {
     "data": {
      "image/png": "[encoded data removed]",
      "text/plain": [
       "<Figure size 640x480 with 1 Axes>"
      ]
     },
     "metadata": {},
     "output_type": "display_data"
    }
   ],
   "source": [
    "plot_hist_xticks(counts_by_pstep, 'num_tactics', 0.99, 'number of tactics by proof step', 'hist_num_tactics_by_proof_step_p99')\n",
    "plot_hist_xticks(counts_by_pstep, 'num_tactics', 1.00, 'number of tactics by proof step', 'hist_num_tactics_by_proof_step_p100')"
   ]
  },
  {
   "cell_type": "markdown",
   "id": "a5382b75",
   "metadata": {},
   "source": [
    "# Number of terms by proof step"
   ]
  },
  {
   "cell_type": "code",
   "execution_count": 32,
   "id": "147a5b2a",
   "metadata": {},
   "outputs": [],
   "source": [
    "import pickle"
   ]
  },
  {
   "cell_type": "code",
   "execution_count": 33,
   "id": "0c7fd5ae",
   "metadata": {},
   "outputs": [],
   "source": [
    "with open('../proof_step_stats.pkl', 'rb') as f:\n",
    "    proof_step_stats = pickle.load(f)"
   ]
  },
  {
   "cell_type": "code",
   "execution_count": 34,
   "id": "fc085240",
   "metadata": {},
   "outputs": [
    {
     "data": {
      "text/html": [
       "<div>\n",
       "<style scoped>\n",
       "    .dataframe tbody tr th:only-of-type {\n",
       "        vertical-align: middle;\n",
       "    }\n",
       "\n",
       "    .dataframe tbody tr th {\n",
       "        vertical-align: top;\n",
       "    }\n",
       "\n",
       "    .dataframe thead th {\n",
       "        text-align: right;\n",
       "    }\n",
       "</style>\n",
       "<table border=\"1\" class=\"dataframe\">\n",
       "  <thead>\n",
       "    <tr style=\"text-align: right;\">\n",
       "      <th></th>\n",
       "      <th>lib</th>\n",
       "      <th>n_env</th>\n",
       "      <th>n_goal</th>\n",
       "      <th>n_lc</th>\n",
       "      <th>project</th>\n",
       "      <th>proof</th>\n",
       "      <th>proof_tactic_str</th>\n",
       "      <th>step</th>\n",
       "      <th>n_terms</th>\n",
       "    </tr>\n",
       "  </thead>\n",
       "  <tbody>\n",
       "    <tr>\n",
       "      <th>0</th>\n",
       "      <td>Bar.json</td>\n",
       "      <td>0</td>\n",
       "      <td>1</td>\n",
       "      <td>11</td>\n",
       "      <td>buchberger</td>\n",
       "      <td>subRelGRBar</td>\n",
       "      <td>unfold GRBar in |- *</td>\n",
       "      <td>0</td>\n",
       "      <td>11</td>\n",
       "    </tr>\n",
       "    <tr>\n",
       "      <th>1</th>\n",
       "      <td>Monomials.json</td>\n",
       "      <td>0</td>\n",
       "      <td>1</td>\n",
       "      <td>2</td>\n",
       "      <td>buchberger</td>\n",
       "      <td>pmon2</td>\n",
       "      <td>exact n_0</td>\n",
       "      <td>0</td>\n",
       "      <td>2</td>\n",
       "    </tr>\n",
       "    <tr>\n",
       "      <th>2</th>\n",
       "      <td>Monomials.json</td>\n",
       "      <td>0</td>\n",
       "      <td>1</td>\n",
       "      <td>2</td>\n",
       "      <td>buchberger</td>\n",
       "      <td>recomp_ok</td>\n",
       "      <td>elim m</td>\n",
       "      <td>0</td>\n",
       "      <td>2</td>\n",
       "    </tr>\n",
       "    <tr>\n",
       "      <th>3</th>\n",
       "      <td>Monomials.json</td>\n",
       "      <td>0</td>\n",
       "      <td>1</td>\n",
       "      <td>1</td>\n",
       "      <td>buchberger</td>\n",
       "      <td>zero_mon</td>\n",
       "      <td>exact n_0</td>\n",
       "      <td>0</td>\n",
       "      <td>1</td>\n",
       "    </tr>\n",
       "    <tr>\n",
       "      <th>4</th>\n",
       "      <td>Monomials.json</td>\n",
       "      <td>0</td>\n",
       "      <td>1</td>\n",
       "      <td>2</td>\n",
       "      <td>buchberger</td>\n",
       "      <td>mult_mon_zero_r</td>\n",
       "      <td>simpl in |- *</td>\n",
       "      <td>0</td>\n",
       "      <td>2</td>\n",
       "    </tr>\n",
       "  </tbody>\n",
       "</table>\n",
       "</div>"
      ],
      "text/plain": [
       "              lib  n_env  n_goal  n_lc     project            proof  \\\n",
       "0        Bar.json      0       1    11  buchberger      subRelGRBar   \n",
       "1  Monomials.json      0       1     2  buchberger            pmon2   \n",
       "2  Monomials.json      0       1     2  buchberger        recomp_ok   \n",
       "3  Monomials.json      0       1     1  buchberger         zero_mon   \n",
       "4  Monomials.json      0       1     2  buchberger  mult_mon_zero_r   \n",
       "\n",
       "       proof_tactic_str  step  n_terms  \n",
       "0  unfold GRBar in |- *     0       11  \n",
       "1             exact n_0     0        2  \n",
       "2                elim m     0        2  \n",
       "3             exact n_0     0        1  \n",
       "4         simpl in |- *     0        2  "
      ]
     },
     "execution_count": 34,
     "metadata": {},
     "output_type": "execute_result"
    }
   ],
   "source": [
    "proof_step_stats['n_terms'] = proof_step_stats['n_env'] + proof_step_stats['n_lc']\n",
    "proof_step_stats.head()"
   ]
  },
  {
   "cell_type": "code",
   "execution_count": 36,
   "id": "4a7bed03",
   "metadata": {},
   "outputs": [
    {
     "data": {
      "image/png": "[encoded data removed]",
      "text/plain": [
       "<Figure size 640x480 with 1 Axes>"
      ]
     },
     "metadata": {},
     "output_type": "display_data"
    },
    {
     "data": {
      "image/png": "[encoded data removed]",
      "text/plain": [
       "<Figure size 640x480 with 1 Axes>"
      ]
     },
     "metadata": {},
     "output_type": "display_data"
    }
   ],
   "source": [
    "plot_hist_simple_title(proof_step_stats, 'n_terms', 0.99, 'number of terms by proof step', 'hist_num_terms_by_proof_step_p99')\n",
    "plot_hist_simple_title(proof_step_stats, 'n_terms', 1.00, 'number of terms by proof step', 'hist_num_terms_by_proof_step_p100')"
   ]
  },
  {
   "cell_type": "code",
   "execution_count": null,
   "id": "0646c0a3",
   "metadata": {},
   "outputs": [],
   "source": []
  }
 ],
 "metadata": {
  "kernelspec": {
   "display_name": "Python [conda env:coq_gym]",
   "language": "python",
   "name": "conda-env-coq_gym-py"
  },
  "language_info": {
   "codemirror_mode": {
    "name": "ipython",
    "version": 3
   },
   "file_extension": ".py",
   "mimetype": "text/x-python",
   "name": "python",
   "nbconvert_exporter": "python",
   "pygments_lexer": "ipython3",
   "version": "3.7.1"
  }
 },
 "nbformat": 4,
 "nbformat_minor": 5
}
