{
 "cells": [
  {
   "cell_type": "code",
   "execution_count": null,
   "id": "a25348eb",
   "metadata": {},
   "outputs": [],
   "source": [
    "import matplotlib.pyplot as plt\n",
    "import pandas as pd\n",
    "import numpy as np"
   ]
  },
  {
   "cell_type": "code",
   "execution_count": null,
   "id": "84c32ca2",
   "metadata": {},
   "outputs": [],
   "source": [
    "def plot_hist(df, col, quantile, title, filename):\n",
    "    plt.figure()\n",
    "    df = df[col]\n",
    "    mean = df.mean()\n",
    "    median = df.median()\n",
    "    df = df[df < df.quantile(quantile)]\n",
    "    df.hist(bins=min(100, len(df.unique())), label=\"count\", align='left', rwidth=1)\n",
    "#     plt.xticks(np.arange(0, df.max()+1, 1))\n",
    "    plt.axvline(mean, color=\"red\", linestyle='dashed', label=f\"mean = {mean:.2f}\")\n",
    "    plt.axvline(median, color=\"orange\", linestyle='dashed', label=f\"median = {median:.2f}\")\n",
    "    plt.legend()\n",
    "#     plt.title(f\"{title}: {col} (quantile={quantile})\")\n",
    "    plt.title(f\"{title} ({col})\")\n",
    "    plt.savefig(f'{filename}.pdf') "
   ]
  },
  {
   "cell_type": "code",
   "execution_count": null,
   "id": "90156597",
   "metadata": {},
   "outputs": [],
   "source": [
    "def plot_hist_simple_title(df, col, quantile, title, filename):\n",
    "    plt.figure()\n",
    "    df = df[col]\n",
    "    mean = df.mean()\n",
    "    median = df.median()\n",
    "    df = df[df < df.quantile(quantile)]\n",
    "    df.hist(bins=min(100, len(df.unique())), label=\"count\", align='left', rwidth=1)\n",
    "#     plt.xticks(np.arange(0, df.max()+1, 1))\n",
    "    plt.axvline(mean, color=\"red\", linestyle='dashed', label=f\"mean = {mean:.2f}\")\n",
    "    plt.axvline(median, color=\"orange\", linestyle='dashed', label=f\"median = {median:.2f}\")\n",
    "    plt.legend()\n",
    "#     plt.title(f\"{title} (quantile={quantile})\") if quantile != 1 else plt.title(f\"{title}\")\n",
    "    plt.title(f\"{title} ({col})\")\n",
    "    plt.savefig(f'{filename}.pdf') "
   ]
  },
  {
   "cell_type": "code",
   "execution_count": null,
   "id": "51426025",
   "metadata": {},
   "outputs": [],
   "source": [
    "def plot_hist_xticks(df, col, quantile, title, filename):\n",
    "    plt.figure()\n",
    "    df = df[col]\n",
    "    mean = df.mean()\n",
    "    median = df.median()\n",
    "    df = df[df < df.quantile(quantile)]\n",
    "    df.hist(bins=min(100, len(df.unique())), label=\"count\", align='left', rwidth=1)\n",
    "    plt.xticks(np.arange(0, df.max()+1, 1))\n",
    "    plt.axvline(mean, color=\"red\", linestyle='dashed', label=f\"mean = {mean:.2f}\")\n",
    "    plt.axvline(median, color=\"orange\", linestyle='dashed', label=f\"median = {median:.2f}\")\n",
    "    plt.legend()\n",
    "#     plt.title(f\"{title}: {col} (quantile={quantile})\")\n",
    "    plt.title(f\"{title} ({col})\")\n",
    "    plt.savefig(f'{filename}.pdf') "
   ]
  },
  {
   "attachments": {},
   "cell_type": "markdown",
   "id": "f635715c",
   "metadata": {},
   "source": [
    "# Number of tactic tokens by proof"
   ]
  },
  {
   "cell_type": "code",
   "execution_count": null,
   "id": "4f9f73cd",
   "metadata": {},
   "outputs": [],
   "source": [
    "counts_by_proof = pd.read_csv(\"counts_proofs.csv\")\n",
    "tfidf_by_proof = pd.read_csv(\"tfidf_proofs.csv\")"
   ]
  },
  {
   "cell_type": "code",
   "execution_count": null,
   "id": "fc3948b9",
   "metadata": {},
   "outputs": [],
   "source": [
    "print(len(counts_by_proof))\n",
    "counts_by_proof.head()"
   ]
  },
  {
   "cell_type": "code",
   "execution_count": null,
   "id": "43b80046",
   "metadata": {},
   "outputs": [],
   "source": [
    "init_cols = counts_by_proof.columns[:5].tolist()\n",
    "init_cols"
   ]
  },
  {
   "cell_type": "code",
   "execution_count": null,
   "id": "3a44e71b",
   "metadata": {},
   "outputs": [],
   "source": [
    "counts_by_proof['num_tokens'] = counts_by_proof.drop(init_cols, axis=1).sum(axis=1)\n",
    "max(counts_by_proof['num_tokens'])"
   ]
  },
  {
   "cell_type": "code",
   "execution_count": null,
   "id": "2f48b935",
   "metadata": {},
   "outputs": [],
   "source": [
    "df = counts_by_proof[init_cols+['num_tokens']]\n",
    "df.head()"
   ]
  },
  {
   "cell_type": "code",
   "execution_count": null,
   "id": "f40272a5",
   "metadata": {},
   "outputs": [],
   "source": [
    "plot_hist(df, 'num_tokens', 'tactics by proof', 0.99)\n",
    "plot_hist(df, 'num_tokens', 'tactics by proof', 1.00)"
   ]
  },
  {
   "attachments": {},
   "cell_type": "markdown",
   "id": "254b673b",
   "metadata": {},
   "source": [
    "# Number of tactic tokens by proof step"
   ]
  },
  {
   "cell_type": "code",
   "execution_count": null,
   "id": "4bf364ea",
   "metadata": {},
   "outputs": [],
   "source": [
    "counts_by_pstep = pd.read_csv('counts_proof_steps.csv')"
   ]
  },
  {
   "cell_type": "code",
   "execution_count": null,
   "id": "4c7da9b8",
   "metadata": {},
   "outputs": [],
   "source": [
    "print(len(counts_by_pstep))\n",
    "counts_by_pstep.head()"
   ]
  },
  {
   "cell_type": "code",
   "execution_count": null,
   "id": "b8b904d8",
   "metadata": {},
   "outputs": [],
   "source": [
    "plot_hist_xticks(counts_by_pstep, 'num_tactics', 0.99, 'number of tactics by proof step', 'hist_num_tactics_by_proof_step_p99')\n",
    "plot_hist_xticks(counts_by_pstep, 'num_tactics', 1.00, 'number of tactics by proof step', 'hist_num_tactics_by_proof_step_p100')"
   ]
  },
  {
   "attachments": {},
   "cell_type": "markdown",
   "id": "a5382b75",
   "metadata": {},
   "source": [
    "# Number of terms by proof step"
   ]
  },
  {
   "cell_type": "code",
   "execution_count": null,
   "id": "147a5b2a",
   "metadata": {},
   "outputs": [],
   "source": [
    "import pickle"
   ]
  },
  {
   "cell_type": "code",
   "execution_count": null,
   "id": "0c7fd5ae",
   "metadata": {},
   "outputs": [],
   "source": [
    "with open('../proof_step_stats.pkl', 'rb') as f:\n",
    "    proof_step_stats = pickle.load(f)"
   ]
  },
  {
   "cell_type": "code",
   "execution_count": null,
   "id": "fc085240",
   "metadata": {},
   "outputs": [],
   "source": [
    "proof_step_stats['n_terms'] = proof_step_stats['n_env'] + proof_step_stats['n_lc']\n",
    "proof_step_stats.head()"
   ]
  },
  {
   "cell_type": "code",
   "execution_count": null,
   "id": "4a7bed03",
   "metadata": {},
   "outputs": [],
   "source": [
    "plot_hist_simple_title(proof_step_stats, 'n_terms', 0.99, 'number of terms by proof step', 'hist_num_terms_by_proof_step_p99')\n",
    "plot_hist_simple_title(proof_step_stats, 'n_terms', 1.00, 'number of terms by proof step', 'hist_num_terms_by_proof_step_p100')"
   ]
  },
  {
   "cell_type": "code",
   "execution_count": null,
   "id": "0646c0a3",
   "metadata": {},
   "outputs": [],
   "source": []
  }
 ],
 "metadata": {
  "kernelspec": {
   "display_name": "Python [conda env:coq_gym]",
   "language": "python",
   "name": "conda-env-coq_gym-py"
  },
  "language_info": {
   "codemirror_mode": {
    "name": "ipython",
    "version": 3
   },
   "file_extension": ".py",
   "mimetype": "text/x-python",
   "name": "python",
   "nbconvert_exporter": "python",
   "pygments_lexer": "ipython3",
   "version": "3.7.1"
  }
 },
 "nbformat": 4,
 "nbformat_minor": 5
}
