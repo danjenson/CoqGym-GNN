{
 "cells": [
  {
   "cell_type": "code",
   "execution_count": null,
   "metadata": {},
   "outputs": [],
   "source": [
    "import json\n",
    "import matplotlib.pyplot as plt\n",
    "from collections import defaultdict"
   ]
  },
  {
   "cell_type": "code",
   "execution_count": null,
   "metadata": {},
   "outputs": [],
   "source": [
    "d = json.load(open('num_nodes_train_valid.json', 'r'))"
   ]
  },
  {
   "cell_type": "code",
   "execution_count": null,
   "metadata": {},
   "outputs": [],
   "source": [
    "num_nodes = d['num_nodes']\n",
    "heights = d['heights']\n",
    "projects = list(num_nodes.keys())\n",
    "for proj in projects:\n",
    "    num_nodes[proj] = {int(k): v for k, v in num_nodes[proj].items()}\n",
    "    heights[proj] = {int(k): v for k, v in heights[proj].items()}\n",
    "print(num_nodes)\n",
    "print(heights)"
   ]
  },
  {
   "cell_type": "code",
   "execution_count": null,
   "metadata": {},
   "outputs": [],
   "source": [
    "max_num_nodes = max([max(num_nodes[proj].keys()) for proj in projects])\n",
    "max_height = max([max(heights[proj].keys()) for proj in projects])\n",
    "print(f'Max num nodes: {max_num_nodes}')\n",
    "print(f'Max height: {max_height}')"
   ]
  },
  {
   "cell_type": "code",
   "execution_count": null,
   "metadata": {},
   "outputs": [],
   "source": [
    "avg_nodes_proj = {proj: sum([k * v for k, v in num_nodes[proj].items()]) / sum(num_nodes[proj].values()) for proj in projects}\n",
    "avg_height_proj = {proj: sum([k * v for k, v in heights[proj].items()]) / sum(heights[proj].values()) for proj in projects}\n",
    "avg_nodes = sum([sum([k * v for k, v in num_nodes[proj].items()]) for proj in projects]) / sum([sum(num_nodes[proj].values()) for proj in projects])\n",
    "avg_height = sum([sum([k * v for k, v in heights[proj].items()]) for proj in projects]) / sum([sum(heights[proj].values()) for proj in projects])\n",
    "print(f'Avg num nodes: {avg_nodes}')\n",
    "print(f'Avg height: {avg_height}')"
   ]
  },
  {
   "cell_type": "code",
   "execution_count": null,
   "metadata": {},
   "outputs": [],
   "source": [
    "p = projects[7]\n",
    "n = sorted(num_nodes[p].items(), key=lambda x: x[0])\n",
    "h = sorted(heights[p].items(), key=lambda x: x[0])\n",
    "plt.figure()\n",
    "plt.hist(num_nodes[p].keys(), weights=num_nodes[p].values(), bins=1000)\n",
    "plt.title(f'Num nodes in {p} (avg: {avg_nodes_proj[p]:.2f})')\n",
    "plt.figure()\n",
    "plt.hist(heights[p].keys(), weights=heights[p].values(), bins=1000)\n",
    "plt.title(f'Heights in {p} (avg: {avg_height_proj[p]:.2f})')\n",
    "print(f'Num nodes in {p}: {n}')\n",
    "print(f'Heights in {p}: {h}')"
   ]
  },
  {
   "cell_type": "code",
   "execution_count": null,
   "metadata": {},
   "outputs": [],
   "source": [
    "interesting_projects = [\n",
    "    2, # VST, max number of nodes, but average still same; roughly average height as well\n",
    "    5, # lin-alg, large number of nodes: 39592, average height\n",
    "    7, # smc, large number of nodes: 16185, average height\n",
    "]"
   ]
  },
  {
   "cell_type": "code",
   "execution_count": null,
   "metadata": {},
   "outputs": [],
   "source": [
    "all_num_nodes = defaultdict(int)\n",
    "for proj in projects:\n",
    "    for k, v in num_nodes[proj].items():\n",
    "        all_num_nodes[k] += v\n",
    "all_num_nodes = dict(all_num_nodes)"
   ]
  },
  {
   "cell_type": "code",
   "execution_count": null,
   "metadata": {},
   "outputs": [],
   "source": [
    "all_num_nodes"
   ]
  }
 ],
 "metadata": {
  "kernelspec": {
   "display_name": "coq_gym",
   "language": "python",
   "name": "python3"
  },
  "language_info": {
   "codemirror_mode": {
    "name": "ipython",
    "version": 3
   },
   "file_extension": ".py",
   "mimetype": "text/x-python",
   "name": "python",
   "nbconvert_exporter": "python",
   "pygments_lexer": "ipython3",
   "version": "3.7.1"
  },
  "orig_nbformat": 4
 },
 "nbformat": 4,
 "nbformat_minor": 2
}
